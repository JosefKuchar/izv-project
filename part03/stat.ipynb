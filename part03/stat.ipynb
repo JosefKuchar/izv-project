{
 "cells": [
  {
   "cell_type": "markdown",
   "metadata": {},
   "source": [
    "Import knihoven"
   ]
  },
  {
   "cell_type": "code",
   "execution_count": 59,
   "metadata": {},
   "outputs": [],
   "source": [
    "import pandas as pd\n",
    "import scipy\n"
   ]
  },
  {
   "cell_type": "markdown",
   "metadata": {},
   "source": [
    "Načtení dat"
   ]
  },
  {
   "cell_type": "code",
   "execution_count": 60,
   "metadata": {},
   "outputs": [
    {
     "data": {
      "text/html": [
       "<div>\n",
       "<style scoped>\n",
       "    .dataframe tbody tr th:only-of-type {\n",
       "        vertical-align: middle;\n",
       "    }\n",
       "\n",
       "    .dataframe tbody tr th {\n",
       "        vertical-align: top;\n",
       "    }\n",
       "\n",
       "    .dataframe thead th {\n",
       "        text-align: right;\n",
       "    }\n",
       "</style>\n",
       "<table border=\"1\" class=\"dataframe\">\n",
       "  <thead>\n",
       "    <tr style=\"text-align: right;\">\n",
       "      <th></th>\n",
       "      <th>p1</th>\n",
       "      <th>p36</th>\n",
       "      <th>p37</th>\n",
       "      <th>p2a</th>\n",
       "      <th>weekday(p2a)</th>\n",
       "      <th>p2b</th>\n",
       "      <th>p6</th>\n",
       "      <th>p7</th>\n",
       "      <th>p8</th>\n",
       "      <th>p9</th>\n",
       "      <th>...</th>\n",
       "      <th>n</th>\n",
       "      <th>o</th>\n",
       "      <th>p</th>\n",
       "      <th>q</th>\n",
       "      <th>r</th>\n",
       "      <th>s</th>\n",
       "      <th>t</th>\n",
       "      <th>p5a</th>\n",
       "      <th>region</th>\n",
       "      <th>date</th>\n",
       "    </tr>\n",
       "  </thead>\n",
       "  <tbody>\n",
       "    <tr>\n",
       "      <th>0</th>\n",
       "      <td>2100160001</td>\n",
       "      <td>4</td>\n",
       "      <td>NaN</td>\n",
       "      <td>2016-01-01</td>\n",
       "      <td>5</td>\n",
       "      <td>55</td>\n",
       "      <td>1</td>\n",
       "      <td>1</td>\n",
       "      <td>0</td>\n",
       "      <td>2</td>\n",
       "      <td>...</td>\n",
       "      <td>711403.0</td>\n",
       "      <td>NaN</td>\n",
       "      <td>Souhlasnýsesměremúseku</td>\n",
       "      <td>Pomalý</td>\n",
       "      <td>554782.0</td>\n",
       "      <td>451622.0</td>\n",
       "      <td>GN_V0.1UIR-ADR_410</td>\n",
       "      <td>1</td>\n",
       "      <td>PHA</td>\n",
       "      <td>2016-01-01</td>\n",
       "    </tr>\n",
       "    <tr>\n",
       "      <th>1</th>\n",
       "      <td>2100160002</td>\n",
       "      <td>4</td>\n",
       "      <td>NaN</td>\n",
       "      <td>2016-01-01</td>\n",
       "      <td>5</td>\n",
       "      <td>130</td>\n",
       "      <td>1</td>\n",
       "      <td>3</td>\n",
       "      <td>0</td>\n",
       "      <td>2</td>\n",
       "      <td>...</td>\n",
       "      <td>NaN</td>\n",
       "      <td>NaN</td>\n",
       "      <td>NaN</td>\n",
       "      <td>NaN</td>\n",
       "      <td>NaN</td>\n",
       "      <td>NaN</td>\n",
       "      <td>NaN</td>\n",
       "      <td>1</td>\n",
       "      <td>PHA</td>\n",
       "      <td>2016-01-01</td>\n",
       "    </tr>\n",
       "    <tr>\n",
       "      <th>2</th>\n",
       "      <td>2100160003</td>\n",
       "      <td>5</td>\n",
       "      <td>NaN</td>\n",
       "      <td>2016-01-01</td>\n",
       "      <td>5</td>\n",
       "      <td>100</td>\n",
       "      <td>1</td>\n",
       "      <td>2</td>\n",
       "      <td>0</td>\n",
       "      <td>2</td>\n",
       "      <td>...</td>\n",
       "      <td>NaN</td>\n",
       "      <td>NaN</td>\n",
       "      <td>NaN</td>\n",
       "      <td>NaN</td>\n",
       "      <td>NaN</td>\n",
       "      <td>NaN</td>\n",
       "      <td>NaN</td>\n",
       "      <td>1</td>\n",
       "      <td>PHA</td>\n",
       "      <td>2016-01-01</td>\n",
       "    </tr>\n",
       "    <tr>\n",
       "      <th>3</th>\n",
       "      <td>2100160004</td>\n",
       "      <td>6</td>\n",
       "      <td>NaN</td>\n",
       "      <td>2016-01-01</td>\n",
       "      <td>5</td>\n",
       "      <td>120</td>\n",
       "      <td>9</td>\n",
       "      <td>0</td>\n",
       "      <td>0</td>\n",
       "      <td>2</td>\n",
       "      <td>...</td>\n",
       "      <td>NaN</td>\n",
       "      <td>NaN</td>\n",
       "      <td>NaN</td>\n",
       "      <td>NaN</td>\n",
       "      <td>NaN</td>\n",
       "      <td>NaN</td>\n",
       "      <td>NaN</td>\n",
       "      <td>1</td>\n",
       "      <td>PHA</td>\n",
       "      <td>2016-01-01</td>\n",
       "    </tr>\n",
       "    <tr>\n",
       "      <th>4</th>\n",
       "      <td>2100160005</td>\n",
       "      <td>6</td>\n",
       "      <td>NaN</td>\n",
       "      <td>2016-01-01</td>\n",
       "      <td>5</td>\n",
       "      <td>2560</td>\n",
       "      <td>2</td>\n",
       "      <td>0</td>\n",
       "      <td>0</td>\n",
       "      <td>2</td>\n",
       "      <td>...</td>\n",
       "      <td>NaN</td>\n",
       "      <td>NaN</td>\n",
       "      <td>NaN</td>\n",
       "      <td>NaN</td>\n",
       "      <td>NaN</td>\n",
       "      <td>NaN</td>\n",
       "      <td>NaN</td>\n",
       "      <td>1</td>\n",
       "      <td>PHA</td>\n",
       "      <td>2016-01-01</td>\n",
       "    </tr>\n",
       "  </tbody>\n",
       "</table>\n",
       "<p>5 rows × 66 columns</p>\n",
       "</div>"
      ],
      "text/plain": [
       "           p1  p36  p37         p2a  weekday(p2a)   p2b  p6  p7  p8  p9  ...  \\\n",
       "0  2100160001    4  NaN  2016-01-01             5    55   1   1   0   2  ...   \n",
       "1  2100160002    4  NaN  2016-01-01             5   130   1   3   0   2  ...   \n",
       "2  2100160003    5  NaN  2016-01-01             5   100   1   2   0   2  ...   \n",
       "3  2100160004    6  NaN  2016-01-01             5   120   9   0   0   2  ...   \n",
       "4  2100160005    6  NaN  2016-01-01             5  2560   2   0   0   2  ...   \n",
       "\n",
       "          n    o                       p       q         r         s  \\\n",
       "0  711403.0  NaN  Souhlasnýsesměremúseku  Pomalý  554782.0  451622.0   \n",
       "1       NaN  NaN                     NaN     NaN       NaN       NaN   \n",
       "2       NaN  NaN                     NaN     NaN       NaN       NaN   \n",
       "3       NaN  NaN                     NaN     NaN       NaN       NaN   \n",
       "4       NaN  NaN                     NaN     NaN       NaN       NaN   \n",
       "\n",
       "                    t  p5a  region       date  \n",
       "0  GN_V0.1UIR-ADR_410    1     PHA 2016-01-01  \n",
       "1                 NaN    1     PHA 2016-01-01  \n",
       "2                 NaN    1     PHA 2016-01-01  \n",
       "3                 NaN    1     PHA 2016-01-01  \n",
       "4                 NaN    1     PHA 2016-01-01  \n",
       "\n",
       "[5 rows x 66 columns]"
      ]
     },
     "execution_count": 60,
     "metadata": {},
     "output_type": "execute_result"
    }
   ],
   "source": [
    "df = pd.read_pickle(\"accidents.pkl.gz\")\n",
    "df.head()\n"
   ]
  },
  {
   "cell_type": "markdown",
   "metadata": {},
   "source": [
    "# Hypotéza 1\n",
    "Na silnicích první třídy se při nehodách umíralo se stejnou pravděpodobností jako na\n",
    "silnicích třetí třídy.\n",
    "\n",
    "K ověření hypotézy využijte $\\chi^2$ test s tím, že také určíte, jestli nehody na silnicích 1. třídy vedly častěji či méně často k fatální nehodě. V tom vám může pomoct “expected” výstup $\\chi^2$ testu. Nerozlišujte počet následků, ale pouze nehody, kde došlo k jednomu a více úmrtí (${p13a} > 0$)."
   ]
  },
  {
   "cell_type": "markdown",
   "metadata": {},
   "source": [
    "Získání kontingenční tabulky"
   ]
  },
  {
   "cell_type": "code",
   "execution_count": 61,
   "metadata": {},
   "outputs": [
    {
     "data": {
      "text/html": [
       "<div>\n",
       "<style scoped>\n",
       "    .dataframe tbody tr th:only-of-type {\n",
       "        vertical-align: middle;\n",
       "    }\n",
       "\n",
       "    .dataframe tbody tr th {\n",
       "        vertical-align: top;\n",
       "    }\n",
       "\n",
       "    .dataframe thead th {\n",
       "        text-align: right;\n",
       "    }\n",
       "</style>\n",
       "<table border=\"1\" class=\"dataframe\">\n",
       "  <thead>\n",
       "    <tr style=\"text-align: right;\">\n",
       "      <th>p36</th>\n",
       "      <th>1</th>\n",
       "      <th>3</th>\n",
       "    </tr>\n",
       "    <tr>\n",
       "      <th>fatal</th>\n",
       "      <th></th>\n",
       "      <th></th>\n",
       "    </tr>\n",
       "  </thead>\n",
       "  <tbody>\n",
       "    <tr>\n",
       "      <th>False</th>\n",
       "      <td>96618</td>\n",
       "      <td>91882</td>\n",
       "    </tr>\n",
       "    <tr>\n",
       "      <th>True</th>\n",
       "      <td>1104</td>\n",
       "      <td>536</td>\n",
       "    </tr>\n",
       "  </tbody>\n",
       "</table>\n",
       "</div>"
      ],
      "text/plain": [
       "p36        1      3\n",
       "fatal              \n",
       "False  96618  91882\n",
       "True    1104    536"
      ]
     },
     "execution_count": 61,
     "metadata": {},
     "output_type": "execute_result"
    }
   ],
   "source": [
    "df[\"fatal\"] = df[\"p13a\"] > 0\n",
    "df = df[df[\"p36\"].isin([1, 3])]\n",
    "table = pd.crosstab(df[\"fatal\"], df[\"p36\"])\n",
    "table\n"
   ]
  },
  {
   "cell_type": "markdown",
   "metadata": {},
   "source": [
    "Chi kvadrát test"
   ]
  },
  {
   "cell_type": "code",
   "execution_count": 62,
   "metadata": {},
   "outputs": [
    {
     "data": {
      "text/plain": [
       "Chi2ContingencyResult(statistic=167.2443757129343, pvalue=2.95835646229767e-38, dof=1, expected_freq=array([[96879.12590723, 91620.87409277],\n",
       "       [  842.87409277,   797.12590723]]))"
      ]
     },
     "execution_count": 62,
     "metadata": {},
     "output_type": "execute_result"
    }
   ],
   "source": [
    "test = scipy.stats.chi2_contingency(table)\n",
    "test\n"
   ]
  },
  {
   "cell_type": "markdown",
   "metadata": {},
   "source": [
    "Výsledek testu"
   ]
  },
  {
   "cell_type": "code",
   "execution_count": 63,
   "metadata": {},
   "outputs": [
    {
     "name": "stdout",
     "output_type": "stream",
     "text": [
      "P-value: 2.95835646229767e-38\n",
      "0 hypotesis passed: False\n",
      "Mean fatal accidents on first class roads: 0.011297353717688955\n",
      "Mean fatal accidents on third class roads: 0.005799735982167976\n"
     ]
    }
   ],
   "source": [
    "print(\"P-value:\", test[1])\n",
    "print(\"0 hypotesis passed:\", test[1] > 0.05)\n",
    "print(\"Mean fatal accidents on first class roads:\", df[df[\"p36\"] == 1][\"fatal\"].mean())\n",
    "print(\"Mean fatal accidents on third class roads:\",\n",
    "      df[df[\"p36\"] == 3][\"fatal\"].mean())\n"
   ]
  },
  {
   "cell_type": "markdown",
   "metadata": {},
   "source": [
    "## Závěr\n",
    "P-hodnota je menší než 0.05, takže nulovou hypotézu zamítáme. To znamená, že existuje statisticky významená kolerace mezi třídou silnice a počtem nehod s fatální nehodou. Na silnicích první třídy se při nehodách umíralo s větší pravděpodobností než na silnicích třetí třídy."
   ]
  },
  {
   "cell_type": "markdown",
   "metadata": {},
   "source": [
    "# Hypotéza 2\n",
    "Při nehodách vozidel značky Škoda je škoda na vozidle nižší než při nehodách vozidel Audi.\n",
    "\n",
    "Využijte vhodný test, který vyberete na základě distribuce dat, nevyužívejte $\\chi^2$ test. Určete, zda je škoda na vozidlech vyšší či nižší a zda je tato vlastnost na požadované hladině významnosti."
   ]
  },
  {
   "cell_type": "markdown",
   "metadata": {},
   "source": [
    "Získání nehod jednotlivých značek"
   ]
  },
  {
   "cell_type": "code",
   "execution_count": 64,
   "metadata": {},
   "outputs": [
    {
     "data": {
      "text/plain": [
       "((47272, 67), (4311, 67))"
      ]
     },
     "execution_count": 64,
     "metadata": {},
     "output_type": "execute_result"
    }
   ],
   "source": [
    "df_skoda = df[df[\"p45a\"] == 39]\n",
    "df_audi = df[df[\"p45a\"] == 2]\n",
    "(df_skoda.shape, df_audi.shape)\n"
   ]
  },
  {
   "cell_type": "markdown",
   "metadata": {},
   "source": [
    "Otestování, zda mají data normální rozložení"
   ]
  },
  {
   "cell_type": "code",
   "execution_count": 65,
   "metadata": {},
   "outputs": [
    {
     "data": {
      "text/plain": [
       "(NormaltestResult(statistic=193618.35987947113, pvalue=0.0),\n",
       " NormaltestResult(statistic=6115.5561771711555, pvalue=0.0))"
      ]
     },
     "execution_count": 65,
     "metadata": {},
     "output_type": "execute_result"
    }
   ],
   "source": [
    "(scipy.stats.normaltest(df_skoda[\"p53\"]), scipy.stats.normaltest(df_audi[\"p53\"]))\n"
   ]
  },
  {
   "cell_type": "markdown",
   "metadata": {},
   "source": [
    "Z výsledku je vidět, že data nemají normální rozložení, proto použijeme Mann-Whitneyův test místo T-testu."
   ]
  },
  {
   "cell_type": "code",
   "execution_count": 66,
   "metadata": {},
   "outputs": [
    {
     "name": "stdout",
     "output_type": "stream",
     "text": [
      "P-value: 2.6748732209485882e-64\n",
      "0 hypotesis passed: False\n",
      "Mean accident costs of Skoda drivers: 428.9974826535793\n",
      "Mean accident costs of Audi drivers: 642.2247738343772\n"
     ]
    }
   ],
   "source": [
    "test = scipy.stats.mannwhitneyu(df_skoda[\"p53\"], df_audi[\"p53\"])\n",
    "print(\"P-value:\", test[1])\n",
    "print(\"0 hypotesis passed:\", test[1] > 0.05)\n",
    "print(\"Mean accident costs of Skoda drivers:\", df_skoda[\"p53\"].mean())\n",
    "print(\"Mean accident costs of Audi drivers:\", df_audi[\"p53\"].mean())\n"
   ]
  },
  {
   "cell_type": "markdown",
   "metadata": {},
   "source": [
    "## Závěr\n",
    "Zamítáme hypotézu, že škoda na vozidlech značky Škoda je stejná jako škoda na vozidlech značky Audi. Škoda na vozidlech značky Škoda je nižší než škoda na vozidlech značky Audi."
   ]
  }
 ],
 "metadata": {
  "kernelspec": {
   "display_name": "izv",
   "language": "python",
   "name": "python3"
  },
  "language_info": {
   "codemirror_mode": {
    "name": "ipython",
    "version": 3
   },
   "file_extension": ".py",
   "mimetype": "text/x-python",
   "name": "python",
   "nbconvert_exporter": "python",
   "pygments_lexer": "ipython3",
   "version": "3.10.13"
  }
 },
 "nbformat": 4,
 "nbformat_minor": 2
}
